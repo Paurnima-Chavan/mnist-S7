{
  "nbformat": 4,
  "nbformat_minor": 0,
  "metadata": {
    "colab": {
      "provenance": [],
      "gpuType": "T4",
      "collapsed_sections": [
        "Dxbzf6CjEj3P",
        "m1mXLDtSE9UP",
        "LtkCF973FCMw"
      ]
    },
    "kernelspec": {
      "name": "python3",
      "display_name": "Python 3"
    },
    "language_info": {
      "name": "python"
    },
    "accelerator": "GPU"
  },
  "cells": [
    {
      "cell_type": "markdown",
      "source": [
        "#Handwritten Digit Recognition using Convolutional Neural Networks with Pytorch"
      ],
      "metadata": {
        "id": "jpN8gqV7EZPK"
      }
    },
    {
      "cell_type": "markdown",
      "source": [
        "## Summary\n",
        "\n",
        "--------------------------------------------------------------------\n",
        "**Step 2: The Batch Normalization**\n",
        "--------------------------------------------------------------------\n",
        "\n",
        "**Target:**\n",
        "1.\tTo enhance the efficiency of the model, incorporate batch normalization techniques.\n",
        "\n",
        "**Results:**\n",
        "1.\tParameters: 6.2K\n",
        "2.\tBest Training Accuracy: 99.03\n",
        "3.\tBest Test Accuracy: 99.34\n",
        "**Analysis:**\n",
        "1.\tAs we have decreased the capacity of the model, it is anticipated that there will be a decline in performance.\n",
        "2.\tTo further enhance the model, it is necessary to augment the model capacity and adjust other relevant parameters.\n"
      ],
      "metadata": {
        "id": "dPyX6_orvtJH"
      }
    },
    {
      "cell_type": "markdown",
      "source": [
        "## Load srouce code files from git"
      ],
      "metadata": {
        "id": "Dxbzf6CjEj3P"
      }
    },
    {
      "cell_type": "code",
      "source": [
        "import os, sys, importlib\n",
        "\n",
        "user = \"Paurnima-Chavan\"\n",
        "repo = \"mnist-S7\"\n",
        "src_dir = \"src\"\n",
        "\n",
        "if os.path.isdir(repo):\n",
        "    !rm -rf {repo}\n",
        "\n",
        "!git clone https://github.com/{user}/{repo}.git\n",
        "\n",
        "path = f\"{repo}/{src_dir}\"\n",
        "if not path in sys.path:\n",
        "    sys.path.insert(1, path)"
      ],
      "metadata": {
        "colab": {
          "base_uri": "https://localhost:8080/"
        },
        "id": "Gh5r-WDDlYR6",
        "outputId": "f7dc7e69-56e4-4532-b269-a14b9d828d1f"
      },
      "execution_count": null,
      "outputs": [
        {
          "output_type": "stream",
          "name": "stdout",
          "text": [
            "Cloning into 'mnist-S6'...\n",
            "remote: Enumerating objects: 19, done.\u001b[K\n",
            "remote: Counting objects: 100% (19/19), done.\u001b[K\n",
            "remote: Compressing objects: 100% (17/17), done.\u001b[K\n",
            "remote: Total 19 (delta 2), reused 0 (delta 0), pack-reused 0\u001b[K\n",
            "Unpacking objects: 100% (19/19), 88.81 KiB | 977.00 KiB/s, done.\n"
          ]
        }
      ]
    },
    {
      "cell_type": "code",
      "source": [
        "import torch\n",
        "import torch.optim as optim\n",
        "import torch.nn.functional as F\n",
        "from utils import train, test,plot_dataset_images, plot_train_test_accuracy_loss\n",
        "from dataset import load_minst_data\n",
        "from models import Net_3, model_summary"
      ],
      "metadata": {
        "id": "LRn5RMQIjo29"
      },
      "execution_count": null,
      "outputs": []
    },
    {
      "cell_type": "markdown",
      "source": [
        "## Load MNIST Dataset"
      ],
      "metadata": {
        "id": "m1mXLDtSE9UP"
      }
    },
    {
      "cell_type": "code",
      "source": [
        "# CUDA?\n",
        "cuda = torch.cuda.is_available()\n",
        "print(\"CUDA Available?\", cuda)\n",
        "#------------- added below code\n",
        "device = torch.device(\"cuda\" if cuda else \"cpu\")\n",
        "device"
      ],
      "metadata": {
        "colab": {
          "base_uri": "https://localhost:8080/"
        },
        "id": "94BxVVBP3WwS",
        "outputId": "95c2dd0c-58f1-49d5-d740-b91e98a0379a"
      },
      "execution_count": null,
      "outputs": [
        {
          "output_type": "stream",
          "name": "stdout",
          "text": [
            "CUDA Available? True\n"
          ]
        },
        {
          "output_type": "execute_result",
          "data": {
            "text/plain": [
              "device(type='cuda')"
            ]
          },
          "metadata": {},
          "execution_count": 3
        }
      ]
    },
    {
      "cell_type": "code",
      "source": [
        "train_loader , test_loader = load_minst_data(batch_size=64) #128"
      ],
      "metadata": {
        "id": "avCKK1uL4A68"
      },
      "execution_count": null,
      "outputs": []
    },
    {
      "cell_type": "code",
      "source": [
        "plot_dataset_images(train_loader, 8)"
      ],
      "metadata": {
        "colab": {
          "base_uri": "https://localhost:8080/",
          "height": 324
        },
        "id": "_6ULzUD7d77E",
        "outputId": "40a6a6c9-77f1-448e-f9b6-63505b1509ec"
      },
      "execution_count": null,
      "outputs": [
        {
          "output_type": "display_data",
          "data": {
            "text/plain": [
              "<Figure size 640x480 with 8 Axes>"
            ],
            "image/png": "[encoded data removed]"
          },
          "metadata": {}
        }
      ]
    },
    {
      "cell_type": "markdown",
      "source": [
        "## Load the model"
      ],
      "metadata": {
        "id": "LtkCF973FCMw"
      }
    },
    {
      "cell_type": "markdown",
      "source": [
        "### **Model 3**"
      ],
      "metadata": {
        "id": "-mIZIIIaUQPG"
      }
    },
    {
      "cell_type": "code",
      "source": [
        "model = Net_3().to(device)\n",
        "model_summary(model, input_size=(1, 28, 28))"
      ],
      "metadata": {
        "colab": {
          "base_uri": "https://localhost:8080/"
        },
        "outputId": "1d7ef134-0e2e-4824-f09f-d61c0570fdba",
        "id": "JfW_R3cUUQPQ"
      },
      "execution_count": null,
      "outputs": [
        {
          "output_type": "stream",
          "name": "stdout",
          "text": [
            "----------------------------------------------------------------\n",
            "        Layer (type)               Output Shape         Param #\n",
            "================================================================\n",
            "            Conv2d-1          [-1, 128, 28, 28]           1,280\n",
            "              ReLU-2          [-1, 128, 28, 28]               0\n",
            "       BatchNorm2d-3          [-1, 128, 28, 28]             256\n",
            "            Conv2d-4            [-1, 4, 28, 28]             516\n",
            "            Conv2d-5            [-1, 8, 28, 28]             296\n",
            "              ReLU-6            [-1, 8, 28, 28]               0\n",
            "       BatchNorm2d-7            [-1, 8, 28, 28]              16\n",
            "         MaxPool2d-8            [-1, 8, 14, 14]               0\n",
            "            Conv2d-9            [-1, 8, 12, 12]             584\n",
            "             ReLU-10            [-1, 8, 12, 12]               0\n",
            "      BatchNorm2d-11            [-1, 8, 12, 12]              16\n",
            "           Conv2d-12           [-1, 16, 10, 10]           1,168\n",
            "             ReLU-13           [-1, 16, 10, 10]               0\n",
            "      BatchNorm2d-14           [-1, 16, 10, 10]              32\n",
            "        MaxPool2d-15             [-1, 16, 5, 5]               0\n",
            "           Conv2d-16              [-1, 8, 5, 5]             136\n",
            "           Conv2d-17              [-1, 8, 3, 3]             584\n",
            "             ReLU-18              [-1, 8, 3, 3]               0\n",
            "      BatchNorm2d-19              [-1, 8, 3, 3]              16\n",
            "           Conv2d-20             [-1, 16, 1, 1]           1,168\n",
            "             ReLU-21             [-1, 16, 1, 1]               0\n",
            "      BatchNorm2d-22             [-1, 16, 1, 1]              32\n",
            "           Conv2d-23             [-1, 10, 1, 1]             170\n",
            "AdaptiveAvgPool2d-24             [-1, 10, 1, 1]               0\n",
            "================================================================\n",
            "Total params: 6,270\n",
            "Trainable params: 6,270\n",
            "Non-trainable params: 0\n",
            "----------------------------------------------------------------\n",
            "Input size (MB): 0.00\n",
            "Forward/backward pass size (MB): 2.55\n",
            "Params size (MB): 0.02\n",
            "Estimated Total Size (MB): 2.57\n",
            "----------------------------------------------------------------\n"
          ]
        }
      ]
    },
    {
      "cell_type": "markdown",
      "source": [
        "## Train the Model"
      ],
      "metadata": {
        "id": "3c_WGklOFK6X"
      }
    },
    {
      "cell_type": "markdown",
      "source": [
        "### **Model 3**"
      ],
      "metadata": {
        "id": "1C1agPq_Ugkx"
      }
    },
    {
      "cell_type": "code",
      "source": [
        "from tqdm import tqdm\n",
        "\n",
        "model = Net_3().to(device)\n",
        "optimizer = optim.SGD(model.parameters(), lr=0.01, momentum=0.9)\n",
        "scheduler = optim.lr_scheduler.StepLR(optimizer, step_size=15, gamma=0.1, verbose=True)\n",
        "num_epochs = 20\n",
        "criterion = F.nll_loss\n",
        "\n",
        "for epoch in range(1, num_epochs+1):\n",
        "  print(f'Epoch {epoch}')\n",
        "  train(model, device, train_loader, optimizer,criterion)\n",
        "  test(model, device, test_loader, criterion)\n",
        "  scheduler.step()"
      ],
      "metadata": {
        "colab": {
          "base_uri": "https://localhost:8080/"
        },
        "outputId": "1af01588-176f-4b12-add9-6c338c0ef35b",
        "id": "kj0hInRlUglA"
      },
      "execution_count": null,
      "outputs": [
        {
          "output_type": "stream",
          "name": "stdout",
          "text": [
            "Adjusting learning rate of group 0 to 1.0000e-02.\n",
            "Epoch 1\n"
          ]
        },
        {
          "output_type": "stream",
          "name": "stderr",
          "text": [
            "Train: Loss=0.1013 Batch_id=468 Accuracy=89.78: 100%|██████████| 469/469 [00:25<00:00, 18.09it/s]\n"
          ]
        },
        {
          "output_type": "stream",
          "name": "stdout",
          "text": [
            "Test set: Average loss: 0.0007, Accuracy: 9748/10000 (97.48%)\n",
            "\n",
            "Adjusting learning rate of group 0 to 1.0000e-02.\n",
            "Epoch 2\n"
          ]
        },
        {
          "output_type": "stream",
          "name": "stderr",
          "text": [
            "Train: Loss=0.0631 Batch_id=468 Accuracy=97.07: 100%|██████████| 469/469 [00:26<00:00, 17.88it/s]\n"
          ]
        },
        {
          "output_type": "stream",
          "name": "stdout",
          "text": [
            "Test set: Average loss: 0.0004, Accuracy: 9857/10000 (98.57%)\n",
            "\n",
            "Adjusting learning rate of group 0 to 1.0000e-02.\n",
            "Epoch 3\n"
          ]
        },
        {
          "output_type": "stream",
          "name": "stderr",
          "text": [
            "Train: Loss=0.0589 Batch_id=468 Accuracy=97.74: 100%|██████████| 469/469 [00:26<00:00, 17.60it/s]\n"
          ]
        },
        {
          "output_type": "stream",
          "name": "stdout",
          "text": [
            "Test set: Average loss: 0.0003, Accuracy: 9882/10000 (98.82%)\n",
            "\n",
            "Adjusting learning rate of group 0 to 1.0000e-02.\n",
            "Epoch 4\n"
          ]
        },
        {
          "output_type": "stream",
          "name": "stderr",
          "text": [
            "Train: Loss=0.0223 Batch_id=468 Accuracy=97.81: 100%|██████████| 469/469 [00:26<00:00, 17.60it/s]\n"
          ]
        },
        {
          "output_type": "stream",
          "name": "stdout",
          "text": [
            "Test set: Average loss: 0.0003, Accuracy: 9882/10000 (98.82%)\n",
            "\n",
            "Adjusting learning rate of group 0 to 1.0000e-02.\n",
            "Epoch 5\n"
          ]
        },
        {
          "output_type": "stream",
          "name": "stderr",
          "text": [
            "Train: Loss=0.0145 Batch_id=468 Accuracy=98.06: 100%|██████████| 469/469 [00:26<00:00, 17.45it/s]\n"
          ]
        },
        {
          "output_type": "stream",
          "name": "stdout",
          "text": [
            "Test set: Average loss: 0.0004, Accuracy: 9887/10000 (98.87%)\n",
            "\n",
            "Adjusting learning rate of group 0 to 1.0000e-02.\n",
            "Epoch 6\n"
          ]
        },
        {
          "output_type": "stream",
          "name": "stderr",
          "text": [
            "Train: Loss=0.0778 Batch_id=468 Accuracy=98.20: 100%|██████████| 469/469 [00:26<00:00, 17.55it/s]\n"
          ]
        },
        {
          "output_type": "stream",
          "name": "stdout",
          "text": [
            "Test set: Average loss: 0.0003, Accuracy: 9905/10000 (99.05%)\n",
            "\n",
            "Adjusting learning rate of group 0 to 1.0000e-02.\n",
            "Epoch 7\n"
          ]
        },
        {
          "output_type": "stream",
          "name": "stderr",
          "text": [
            "Train: Loss=0.0885 Batch_id=468 Accuracy=98.30: 100%|██████████| 469/469 [00:26<00:00, 17.48it/s]\n"
          ]
        },
        {
          "output_type": "stream",
          "name": "stdout",
          "text": [
            "Test set: Average loss: 0.0003, Accuracy: 9893/10000 (98.93%)\n",
            "\n",
            "Adjusting learning rate of group 0 to 1.0000e-02.\n",
            "Epoch 8\n"
          ]
        },
        {
          "output_type": "stream",
          "name": "stderr",
          "text": [
            "Train: Loss=0.0784 Batch_id=468 Accuracy=98.32: 100%|██████████| 469/469 [00:26<00:00, 17.58it/s]\n"
          ]
        },
        {
          "output_type": "stream",
          "name": "stdout",
          "text": [
            "Test set: Average loss: 0.0002, Accuracy: 9900/10000 (99.00%)\n",
            "\n",
            "Adjusting learning rate of group 0 to 1.0000e-02.\n",
            "Epoch 9\n"
          ]
        },
        {
          "output_type": "stream",
          "name": "stderr",
          "text": [
            "Train: Loss=0.0496 Batch_id=468 Accuracy=98.36: 100%|██████████| 469/469 [00:28<00:00, 16.66it/s]\n"
          ]
        },
        {
          "output_type": "stream",
          "name": "stdout",
          "text": [
            "Test set: Average loss: 0.0002, Accuracy: 9906/10000 (99.06%)\n",
            "\n",
            "Adjusting learning rate of group 0 to 1.0000e-02.\n",
            "Epoch 10\n"
          ]
        },
        {
          "output_type": "stream",
          "name": "stderr",
          "text": [
            "Train: Loss=0.0737 Batch_id=468 Accuracy=98.56: 100%|██████████| 469/469 [00:26<00:00, 17.41it/s]\n"
          ]
        },
        {
          "output_type": "stream",
          "name": "stdout",
          "text": [
            "Test set: Average loss: 0.0003, Accuracy: 9894/10000 (98.94%)\n",
            "\n",
            "Adjusting learning rate of group 0 to 1.0000e-02.\n",
            "Epoch 11\n"
          ]
        },
        {
          "output_type": "stream",
          "name": "stderr",
          "text": [
            "Train: Loss=0.0102 Batch_id=468 Accuracy=98.52: 100%|██████████| 469/469 [00:26<00:00, 17.55it/s]\n"
          ]
        },
        {
          "output_type": "stream",
          "name": "stdout",
          "text": [
            "Test set: Average loss: 0.0002, Accuracy: 9921/10000 (99.21%)\n",
            "\n",
            "Adjusting learning rate of group 0 to 1.0000e-02.\n",
            "Epoch 12\n"
          ]
        },
        {
          "output_type": "stream",
          "name": "stderr",
          "text": [
            "Train: Loss=0.0294 Batch_id=468 Accuracy=98.56: 100%|██████████| 469/469 [00:26<00:00, 17.48it/s]\n"
          ]
        },
        {
          "output_type": "stream",
          "name": "stdout",
          "text": [
            "Test set: Average loss: 0.0002, Accuracy: 9922/10000 (99.22%)\n",
            "\n",
            "Adjusting learning rate of group 0 to 1.0000e-02.\n",
            "Epoch 13\n"
          ]
        },
        {
          "output_type": "stream",
          "name": "stderr",
          "text": [
            "Train: Loss=0.0227 Batch_id=468 Accuracy=98.64: 100%|██████████| 469/469 [00:26<00:00, 17.45it/s]\n"
          ]
        },
        {
          "output_type": "stream",
          "name": "stdout",
          "text": [
            "Test set: Average loss: 0.0002, Accuracy: 9919/10000 (99.19%)\n",
            "\n",
            "Adjusting learning rate of group 0 to 1.0000e-02.\n",
            "Epoch 14\n"
          ]
        },
        {
          "output_type": "stream",
          "name": "stderr",
          "text": [
            "Train: Loss=0.1565 Batch_id=468 Accuracy=98.67: 100%|██████████| 469/469 [00:26<00:00, 17.48it/s]\n"
          ]
        },
        {
          "output_type": "stream",
          "name": "stdout",
          "text": [
            "Test set: Average loss: 0.0002, Accuracy: 9909/10000 (99.09%)\n",
            "\n",
            "Adjusting learning rate of group 0 to 1.0000e-02.\n",
            "Epoch 15\n"
          ]
        },
        {
          "output_type": "stream",
          "name": "stderr",
          "text": [
            "Train: Loss=0.0121 Batch_id=468 Accuracy=98.64: 100%|██████████| 469/469 [00:27<00:00, 17.35it/s]\n"
          ]
        },
        {
          "output_type": "stream",
          "name": "stdout",
          "text": [
            "Test set: Average loss: 0.0003, Accuracy: 9889/10000 (98.89%)\n",
            "\n",
            "Adjusting learning rate of group 0 to 1.0000e-03.\n",
            "Epoch 16\n"
          ]
        },
        {
          "output_type": "stream",
          "name": "stderr",
          "text": [
            "Train: Loss=0.0491 Batch_id=468 Accuracy=98.88: 100%|██████████| 469/469 [00:26<00:00, 17.63it/s]\n"
          ]
        },
        {
          "output_type": "stream",
          "name": "stdout",
          "text": [
            "Test set: Average loss: 0.0002, Accuracy: 9928/10000 (99.28%)\n",
            "\n",
            "Adjusting learning rate of group 0 to 1.0000e-03.\n",
            "Epoch 17\n"
          ]
        },
        {
          "output_type": "stream",
          "name": "stderr",
          "text": [
            "Train: Loss=0.1253 Batch_id=468 Accuracy=98.95: 100%|██████████| 469/469 [00:26<00:00, 17.49it/s]\n"
          ]
        },
        {
          "output_type": "stream",
          "name": "stdout",
          "text": [
            "Test set: Average loss: 0.0002, Accuracy: 9930/10000 (99.30%)\n",
            "\n",
            "Adjusting learning rate of group 0 to 1.0000e-03.\n",
            "Epoch 18\n"
          ]
        },
        {
          "output_type": "stream",
          "name": "stderr",
          "text": [
            "Train: Loss=0.0284 Batch_id=468 Accuracy=98.94: 100%|██████████| 469/469 [00:27<00:00, 17.27it/s]\n"
          ]
        },
        {
          "output_type": "stream",
          "name": "stdout",
          "text": [
            "Test set: Average loss: 0.0002, Accuracy: 9934/10000 (99.34%)\n",
            "\n",
            "Adjusting learning rate of group 0 to 1.0000e-03.\n",
            "Epoch 19\n"
          ]
        },
        {
          "output_type": "stream",
          "name": "stderr",
          "text": [
            "Train: Loss=0.0770 Batch_id=468 Accuracy=98.99: 100%|██████████| 469/469 [00:27<00:00, 16.82it/s]\n"
          ]
        },
        {
          "output_type": "stream",
          "name": "stdout",
          "text": [
            "Test set: Average loss: 0.0002, Accuracy: 9934/10000 (99.34%)\n",
            "\n",
            "Adjusting learning rate of group 0 to 1.0000e-03.\n",
            "Epoch 20\n"
          ]
        },
        {
          "output_type": "stream",
          "name": "stderr",
          "text": [
            "Train: Loss=0.0039 Batch_id=468 Accuracy=99.03: 100%|██████████| 469/469 [00:26<00:00, 17.50it/s]\n"
          ]
        },
        {
          "output_type": "stream",
          "name": "stdout",
          "text": [
            "Test set: Average loss: 0.0002, Accuracy: 9930/10000 (99.30%)\n",
            "\n",
            "Adjusting learning rate of group 0 to 1.0000e-03.\n"
          ]
        }
      ]
    },
    {
      "cell_type": "markdown",
      "source": [
        "## Plot model performance"
      ],
      "metadata": {
        "id": "VEAvhWgGFRI3"
      }
    },
    {
      "cell_type": "code",
      "source": [
        "plot_train_test_accuracy_loss()"
      ],
      "metadata": {
        "id": "Wu0l7dli4eC9"
      },
      "execution_count": null,
      "outputs": []
    }
  ]
}